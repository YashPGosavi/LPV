{
 "cells": [
  {
   "cell_type": "code",
   "execution_count": 12,
   "metadata": {},
   "outputs": [],
   "source": [
    "import pandas as pd\n",
    "from sklearn.model_selection import train_test_split\n",
    "boston_housing = pd.read_csv('/Users/yashgosavi/Desktop/Learning/DL/BostonHousing.csv')\n",
    "\n",
    "data = boston_housing.iloc[:, :-1]\n",
    "labels = boston_housing.iloc[:, -1]\n",
    "\n",
    "train_data, test_data, train_labels, test_labels = train_test_split(data, labels, test_size=0.2, random_state=42)\n"
   ]
  },
  {
   "cell_type": "code",
   "execution_count": 13,
   "metadata": {},
   "outputs": [],
   "source": [
    "from sklearn.preprocessing import StandardScaler\n",
    "scaler = StandardScaler()\n",
    "train_data = scaler.fit_transform(train_data)\n",
    "test_data = scaler.transform(test_data)"
   ]
  },
  {
   "cell_type": "code",
   "execution_count": 14,
   "metadata": {},
   "outputs": [
    {
     "name": "stderr",
     "output_type": "stream",
     "text": [
      "/Users/yashgosavi/Library/Python/3.9/lib/python/site-packages/keras/src/layers/core/dense.py:86: UserWarning: Do not pass an `input_shape`/`input_dim` argument to a layer. When using Sequential models, prefer using an `Input(shape)` object as the first layer in the model instead.\n",
      "  super().__init__(activity_regularizer=activity_regularizer, **kwargs)\n"
     ]
    }
   ],
   "source": [
    "from keras import models\n",
    "from keras import layers\n",
    "\n",
    "model = models.Sequential([\n",
    "    layers.Dense(1, input_shape=(train_data.shape[1],)),\n",
    "])"
   ]
  },
  {
   "cell_type": "code",
   "execution_count": 15,
   "metadata": {},
   "outputs": [],
   "source": [
    "model.compile( optimizer='adam',\n",
    "              loss = 'mean_squared_error',\n",
    "              metrics = ['mse']\n",
    ")"
   ]
  },
  {
   "cell_type": "code",
   "execution_count": 16,
   "metadata": {},
   "outputs": [
    {
     "name": "stdout",
     "output_type": "stream",
     "text": [
      "Epoch 1/10\n",
      "\u001b[1m11/11\u001b[0m \u001b[32m━━━━━━━━━━━━━━━━━━━━\u001b[0m\u001b[37m\u001b[0m \u001b[1m0s\u001b[0m 6ms/step - loss: 636.4039 - mse: 636.4039 - val_loss: 569.3844 - val_mse: 569.3843\n",
      "Epoch 2/10\n",
      "\u001b[1m11/11\u001b[0m \u001b[32m━━━━━━━━━━━━━━━━━━━━\u001b[0m\u001b[37m\u001b[0m \u001b[1m0s\u001b[0m 2ms/step - loss: 647.3797 - mse: 647.3797 - val_loss: 568.3664 - val_mse: 568.3664\n",
      "Epoch 3/10\n",
      "\u001b[1m11/11\u001b[0m \u001b[32m━━━━━━━━━━━━━━━━━━━━\u001b[0m\u001b[37m\u001b[0m \u001b[1m0s\u001b[0m 2ms/step - loss: 701.6113 - mse: 701.6113 - val_loss: 567.2896 - val_mse: 567.2896\n",
      "Epoch 4/10\n",
      "\u001b[1m11/11\u001b[0m \u001b[32m━━━━━━━━━━━━━━━━━━━━\u001b[0m\u001b[37m\u001b[0m \u001b[1m0s\u001b[0m 2ms/step - loss: 663.3802 - mse: 663.3802 - val_loss: 566.2831 - val_mse: 566.2831\n",
      "Epoch 5/10\n",
      "\u001b[1m11/11\u001b[0m \u001b[32m━━━━━━━━━━━━━━━━━━━━\u001b[0m\u001b[37m\u001b[0m \u001b[1m0s\u001b[0m 2ms/step - loss: 634.5218 - mse: 634.5217 - val_loss: 565.2764 - val_mse: 565.2764\n",
      "Epoch 6/10\n",
      "\u001b[1m11/11\u001b[0m \u001b[32m━━━━━━━━━━━━━━━━━━━━\u001b[0m\u001b[37m\u001b[0m \u001b[1m0s\u001b[0m 2ms/step - loss: 635.6562 - mse: 635.6562 - val_loss: 564.2380 - val_mse: 564.2380\n",
      "Epoch 7/10\n",
      "\u001b[1m11/11\u001b[0m \u001b[32m━━━━━━━━━━━━━━━━━━━━\u001b[0m\u001b[37m\u001b[0m \u001b[1m0s\u001b[0m 2ms/step - loss: 613.4504 - mse: 613.4504 - val_loss: 563.2664 - val_mse: 563.2664\n",
      "Epoch 8/10\n",
      "\u001b[1m11/11\u001b[0m \u001b[32m━━━━━━━━━━━━━━━━━━━━\u001b[0m\u001b[37m\u001b[0m \u001b[1m0s\u001b[0m 2ms/step - loss: 689.4052 - mse: 689.4052 - val_loss: 562.2440 - val_mse: 562.2440\n",
      "Epoch 9/10\n",
      "\u001b[1m11/11\u001b[0m \u001b[32m━━━━━━━━━━━━━━━━━━━━\u001b[0m\u001b[37m\u001b[0m \u001b[1m0s\u001b[0m 2ms/step - loss: 612.4233 - mse: 612.4233 - val_loss: 561.2787 - val_mse: 561.2787\n",
      "Epoch 10/10\n",
      "\u001b[1m11/11\u001b[0m \u001b[32m━━━━━━━━━━━━━━━━━━━━\u001b[0m\u001b[37m\u001b[0m \u001b[1m0s\u001b[0m 2ms/step - loss: 620.0317 - mse: 620.0317 - val_loss: 560.3101 - val_mse: 560.3101\n"
     ]
    },
    {
     "data": {
      "text/plain": [
       "<keras.src.callbacks.history.History at 0x3112021c0>"
      ]
     },
     "execution_count": 16,
     "metadata": {},
     "output_type": "execute_result"
    }
   ],
   "source": [
    "model.fit(train_data, train_labels, epochs=10, batch_size=30, validation_split=0.2)"
   ]
  },
  {
   "cell_type": "code",
   "execution_count": 17,
   "metadata": {},
   "outputs": [
    {
     "name": "stdout",
     "output_type": "stream",
     "text": [
      "\u001b[1m4/4\u001b[0m \u001b[32m━━━━━━━━━━━━━━━━━━━━\u001b[0m\u001b[37m\u001b[0m \u001b[1m0s\u001b[0m 663us/step - loss: 516.0676 - mse: 516.0676\n",
      "MSE:  [525.6534423828125, 525.6534423828125]\n"
     ]
    }
   ],
   "source": [
    "mse = model.evaluate(test_data, test_labels)\n",
    "print('MSE: ', mse)"
   ]
  },
  {
   "cell_type": "code",
   "execution_count": 18,
   "metadata": {},
   "outputs": [
    {
     "name": "stdout",
     "output_type": "stream",
     "text": [
      "\u001b[1m4/4\u001b[0m \u001b[32m━━━━━━━━━━━━━━━━━━━━\u001b[0m\u001b[37m\u001b[0m \u001b[1m0s\u001b[0m 3ms/step \n",
      "[[-1.17481   ]\n",
      " [ 0.8227574 ]\n",
      " [ 1.2578762 ]\n",
      " [ 0.8510401 ]\n",
      " [-0.02031038]\n",
      " [ 0.36963907]\n",
      " [ 0.38189724]\n",
      " [ 0.72463614]\n",
      " [ 0.1252746 ]\n",
      " [ 0.02930975]\n",
      " [ 0.7395566 ]\n",
      " [ 0.51326513]\n",
      " [-0.4164292 ]\n",
      " [ 0.74863446]\n",
      " [ 0.7156016 ]\n",
      " [-0.43973663]\n",
      " [ 0.15826702]\n",
      " [ 0.38159284]\n",
      " [-1.0543903 ]\n",
      " [-0.36545292]\n",
      " [ 0.27620843]\n",
      " [-0.02529008]\n",
      " [ 1.1819493 ]\n",
      " [-0.11476002]\n",
      " [ 0.11512029]\n",
      " [ 0.49494755]\n",
      " [ 0.807648  ]\n",
      " [ 1.0151514 ]\n",
      " [ 1.3860856 ]\n",
      " [ 0.34912243]\n",
      " [-0.47324213]\n",
      " [ 0.11957248]\n",
      " [-2.3918583 ]\n",
      " [ 0.52257055]\n",
      " [ 0.57347864]\n",
      " [-0.10412242]\n",
      " [-0.7589039 ]\n",
      " [ 0.77054167]\n",
      " [ 1.5644848 ]\n",
      " [ 0.8303526 ]\n",
      " [ 0.7736665 ]\n",
      " [-0.9061343 ]\n",
      " [-1.1240492 ]\n",
      " [ 1.5990937 ]\n",
      " [-0.7039086 ]\n",
      " [ 0.04714869]\n",
      " [ 0.9507687 ]\n",
      " [ 0.6646416 ]\n",
      " [ 0.25060236]\n",
      " [-0.8679473 ]\n",
      " [ 0.2786912 ]\n",
      " [-1.0025179 ]\n",
      " [ 0.5452751 ]\n",
      " [-0.22341782]\n",
      " [-2.428059  ]\n",
      " [ 0.5330234 ]\n",
      " [-0.21116224]\n",
      " [ 0.54542786]\n",
      " [-0.01658956]\n",
      " [ 2.0513139 ]\n",
      " [ 1.1186097 ]\n",
      " [ 1.0964315 ]\n",
      " [-0.70838666]\n",
      " [ 1.5651429 ]\n",
      " [ 2.4520073 ]\n",
      " [ 1.8996919 ]\n",
      " [-0.6953671 ]\n",
      " [ 0.61276484]\n",
      " [ 0.65794617]\n",
      " [ 1.9804392 ]\n",
      " [ 0.6003297 ]\n",
      " [-0.3536158 ]\n",
      " [ 0.32214978]\n",
      " [ 3.6840591 ]\n",
      " [ 0.51716   ]\n",
      " [-2.0463161 ]\n",
      " [ 0.12545279]\n",
      " [-0.9877011 ]\n",
      " [-1.302159  ]\n",
      " [ 1.9739171 ]\n",
      " [ 1.3014472 ]\n",
      " [ 0.47648233]\n",
      " [ 2.3335178 ]\n",
      " [ 0.32767132]\n",
      " [-0.26508057]\n",
      " [ 0.39069268]\n",
      " [ 0.32613716]\n",
      " [ 0.19865122]\n",
      " [ 0.2809705 ]\n",
      " [ 0.30414233]\n",
      " [-0.40551051]\n",
      " [ 0.1877043 ]\n",
      " [ 0.3905237 ]\n",
      " [ 1.7720224 ]\n",
      " [ 1.6587641 ]\n",
      " [ 0.44029963]\n",
      " [-0.82307917]\n",
      " [ 1.7423493 ]\n",
      " [ 0.5806823 ]\n",
      " [ 0.2949075 ]\n",
      " [ 0.2439943 ]\n",
      " [ 0.522527  ]]\n"
     ]
    }
   ],
   "source": [
    "prediction = model.predict(test_data)\n",
    "print(prediction)"
   ]
  }
 ],
 "metadata": {
  "kernelspec": {
   "display_name": "Python 3",
   "language": "python",
   "name": "python3"
  },
  "language_info": {
   "codemirror_mode": {
    "name": "ipython",
    "version": 3
   },
   "file_extension": ".py",
   "mimetype": "text/x-python",
   "name": "python",
   "nbconvert_exporter": "python",
   "pygments_lexer": "ipython3",
   "version": "3.9.6"
  }
 },
 "nbformat": 4,
 "nbformat_minor": 2
}
