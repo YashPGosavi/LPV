{
 "cells": [
  {
   "cell_type": "code",
   "execution_count": 46,
   "metadata": {},
   "outputs": [],
   "source": [
    "import pandas as pd\n",
    "from sklearn.model_selection import train_test_split\n",
    "boston_housing = pd.read_csv('/Users/yashgosavi/Desktop/Learning/DL/BostonHousing.csv')\n",
    "\n",
    "data = boston_housing.iloc[:, :-1]\n",
    "labels = boston_housing.iloc[:, -1]\n",
    "\n",
    "train_data, test_data, train_labels, test_labels = train_test_split(data, labels, test_size=0.2, random_state=42)\n"
   ]
  },
  {
   "cell_type": "code",
   "execution_count": 47,
   "metadata": {},
   "outputs": [],
   "source": [
    "from sklearn.preprocessing import StandardScaler\n",
    "scaler = StandardScaler()\n",
    "train_data = scaler.fit_transform(train_data)\n",
    "test_data = scaler.transform(test_data)"
   ]
  },
  {
   "cell_type": "code",
   "execution_count": 48,
   "metadata": {},
   "outputs": [
    {
     "name": "stderr",
     "output_type": "stream",
     "text": [
      "/Users/yashgosavi/Library/Python/3.9/lib/python/site-packages/keras/src/layers/core/dense.py:86: UserWarning: Do not pass an `input_shape`/`input_dim` argument to a layer. When using Sequential models, prefer using an `Input(shape)` object as the first layer in the model instead.\n",
      "  super().__init__(activity_regularizer=activity_regularizer, **kwargs)\n"
     ]
    }
   ],
   "source": [
    "from keras import models\n",
    "from keras import layers\n",
    "\n",
    "model = models.Sequential([\n",
    "    layers.Dense(1, input_shape=(train_data.shape[1],)),\n",
    "])"
   ]
  },
  {
   "cell_type": "code",
   "execution_count": 49,
   "metadata": {},
   "outputs": [],
   "source": [
    "model.compile( optimizer='adam',\n",
    "              loss = 'mean_squared_error',\n",
    "              metrics = ['mse']\n",
    ")"
   ]
  },
  {
   "cell_type": "code",
   "execution_count": 50,
   "metadata": {},
   "outputs": [
    {
     "name": "stdout",
     "output_type": "stream",
     "text": [
      "Epoch 1/10\n",
      "\u001b[1m11/11\u001b[0m \u001b[32m━━━━━━━━━━━━━━━━━━━━\u001b[0m\u001b[37m\u001b[0m \u001b[1m0s\u001b[0m 7ms/step - loss: 528.1690 - mse: 528.1690 - val_loss: 638.5635 - val_mse: 638.5635\n",
      "Epoch 2/10\n",
      "\u001b[1m11/11\u001b[0m \u001b[32m━━━━━━━━━━━━━━━━━━━━\u001b[0m\u001b[37m\u001b[0m \u001b[1m0s\u001b[0m 2ms/step - loss: 539.6843 - mse: 539.6844 - val_loss: 638.1125 - val_mse: 638.1125\n",
      "Epoch 3/10\n",
      "\u001b[1m11/11\u001b[0m \u001b[32m━━━━━━━━━━━━━━━━━━━━\u001b[0m\u001b[37m\u001b[0m \u001b[1m0s\u001b[0m 2ms/step - loss: 553.6011 - mse: 553.6011 - val_loss: 637.6616 - val_mse: 637.6616\n",
      "Epoch 4/10\n",
      "\u001b[1m11/11\u001b[0m \u001b[32m━━━━━━━━━━━━━━━━━━━━\u001b[0m\u001b[37m\u001b[0m \u001b[1m0s\u001b[0m 2ms/step - loss: 625.1984 - mse: 625.1984 - val_loss: 637.1907 - val_mse: 637.1907\n",
      "Epoch 5/10\n",
      "\u001b[1m11/11\u001b[0m \u001b[32m━━━━━━━━━━━━━━━━━━━━\u001b[0m\u001b[37m\u001b[0m \u001b[1m0s\u001b[0m 2ms/step - loss: 552.7516 - mse: 552.7516 - val_loss: 636.7341 - val_mse: 636.7341\n",
      "Epoch 6/10\n",
      "\u001b[1m11/11\u001b[0m \u001b[32m━━━━━━━━━━━━━━━━━━━━\u001b[0m\u001b[37m\u001b[0m \u001b[1m0s\u001b[0m 2ms/step - loss: 584.1274 - mse: 584.1274 - val_loss: 636.2848 - val_mse: 636.2848\n",
      "Epoch 7/10\n",
      "\u001b[1m11/11\u001b[0m \u001b[32m━━━━━━━━━━━━━━━━━━━━\u001b[0m\u001b[37m\u001b[0m \u001b[1m0s\u001b[0m 2ms/step - loss: 575.4579 - mse: 575.4579 - val_loss: 635.8213 - val_mse: 635.8213\n",
      "Epoch 8/10\n",
      "\u001b[1m11/11\u001b[0m \u001b[32m━━━━━━━━━━━━━━━━━━━━\u001b[0m\u001b[37m\u001b[0m \u001b[1m0s\u001b[0m 2ms/step - loss: 598.3851 - mse: 598.3851 - val_loss: 635.3586 - val_mse: 635.3586\n",
      "Epoch 9/10\n",
      "\u001b[1m11/11\u001b[0m \u001b[32m━━━━━━━━━━━━━━━━━━━━\u001b[0m\u001b[37m\u001b[0m \u001b[1m0s\u001b[0m 2ms/step - loss: 536.6303 - mse: 536.6303 - val_loss: 634.9065 - val_mse: 634.9065\n",
      "Epoch 10/10\n",
      "\u001b[1m11/11\u001b[0m \u001b[32m━━━━━━━━━━━━━━━━━━━━\u001b[0m\u001b[37m\u001b[0m \u001b[1m0s\u001b[0m 2ms/step - loss: 573.3405 - mse: 573.3405 - val_loss: 634.4543 - val_mse: 634.4543\n"
     ]
    },
    {
     "data": {
      "text/plain": [
       "<keras.src.callbacks.history.History at 0x31cbb5ee0>"
      ]
     },
     "execution_count": 50,
     "metadata": {},
     "output_type": "execute_result"
    }
   ],
   "source": [
    "model.fit(train_data, train_label, epochs=10, batch_size=30, validation_split=0.2)"
   ]
  },
  {
   "cell_type": "code",
   "execution_count": 51,
   "metadata": {},
   "outputs": [
    {
     "name": "stdout",
     "output_type": "stream",
     "text": [
      "\u001b[1m4/4\u001b[0m \u001b[32m━━━━━━━━━━━━━━━━━━━━\u001b[0m\u001b[37m\u001b[0m \u001b[1m0s\u001b[0m 656us/step - loss: 573.8741 - mse: 573.8741\n",
      "MSE:  [602.618408203125, 602.618408203125]\n"
     ]
    }
   ],
   "source": [
    "mse = model.evaluate(test_data, test_label)\n",
    "print('MSE: ', mse)"
   ]
  },
  {
   "cell_type": "code",
   "execution_count": 52,
   "metadata": {},
   "outputs": [
    {
     "name": "stdout",
     "output_type": "stream",
     "text": [
      "\u001b[1m4/4\u001b[0m \u001b[32m━━━━━━━━━━━━━━━━━━━━\u001b[0m\u001b[37m\u001b[0m \u001b[1m0s\u001b[0m 3ms/step \n",
      "[[-1.32404912e+00]\n",
      " [-1.50636721e+00]\n",
      " [ 2.67203832e+00]\n",
      " [ 2.54341066e-01]\n",
      " [ 8.77625585e-01]\n",
      " [ 1.77175552e-01]\n",
      " [ 1.91861123e-01]\n",
      " [ 1.96931708e+00]\n",
      " [ 3.50099057e-01]\n",
      " [ 2.89301693e-01]\n",
      " [-1.74025059e+00]\n",
      " [-2.76096642e-01]\n",
      " [ 9.36609566e-01]\n",
      " [ 4.37307239e-01]\n",
      " [ 1.12527311e-02]\n",
      " [ 5.13316453e-01]\n",
      " [ 7.81161129e-01]\n",
      " [ 1.14127839e+00]\n",
      " [-5.57338476e-01]\n",
      " [ 7.32112408e-01]\n",
      " [ 5.79487011e-02]\n",
      " [ 2.56056339e-03]\n",
      " [ 8.51725459e-01]\n",
      " [ 5.87696433e-01]\n",
      " [ 8.29326570e-01]\n",
      " [ 6.32499695e-01]\n",
      " [ 4.07218575e-01]\n",
      " [ 1.27132285e+00]\n",
      " [-1.39897048e+00]\n",
      " [ 4.22561288e-01]\n",
      " [-1.03517914e+00]\n",
      " [-1.39772356e-01]\n",
      " [-1.13415115e-01]\n",
      " [ 8.95458043e-01]\n",
      " [ 8.14027786e-01]\n",
      " [ 6.80891216e-01]\n",
      " [-8.06300998e-01]\n",
      " [ 4.17807400e-02]\n",
      " [-1.22849190e+00]\n",
      " [ 3.28049302e-01]\n",
      " [ 7.08785951e-01]\n",
      " [-8.22032571e-01]\n",
      " [-2.81707793e-01]\n",
      " [ 5.57482064e-01]\n",
      " [-8.50931942e-01]\n",
      " [ 7.67494440e-01]\n",
      " [ 6.39783978e-01]\n",
      " [ 2.64545888e-01]\n",
      " [ 6.38324857e-01]\n",
      " [-9.15316463e-01]\n",
      " [-4.53716695e-01]\n",
      " [-1.42412913e+00]\n",
      " [ 5.78968287e-01]\n",
      " [ 2.42418140e-01]\n",
      " [-1.85270107e+00]\n",
      " [ 7.79357612e-01]\n",
      " [ 8.07735860e-01]\n",
      " [ 8.69614720e-01]\n",
      " [-5.18434346e-01]\n",
      " [ 7.47481287e-01]\n",
      " [ 4.31176662e-01]\n",
      " [ 8.78571153e-01]\n",
      " [-8.91340613e-01]\n",
      " [ 9.27257180e-01]\n",
      " [ 1.41932654e+00]\n",
      " [-1.16331196e+00]\n",
      " [ 5.56430101e-01]\n",
      " [ 1.54347479e-01]\n",
      " [ 7.39591837e-01]\n",
      " [ 1.57233679e+00]\n",
      " [-1.83543205e-01]\n",
      " [ 1.78270549e-01]\n",
      " [ 1.14795041e+00]\n",
      " [ 2.61122727e+00]\n",
      " [ 3.11692834e-01]\n",
      " [ 3.24521661e-01]\n",
      " [ 3.26574951e-01]\n",
      " [-2.33789146e-01]\n",
      " [ 3.95968676e-01]\n",
      " [ 3.01968217e+00]\n",
      " [ 3.84725779e-01]\n",
      " [ 8.72653186e-01]\n",
      " [ 1.43674576e+00]\n",
      " [ 1.02512801e+00]\n",
      " [-2.61358500e-01]\n",
      " [-2.31221271e+00]\n",
      " [ 1.01677608e+00]\n",
      " [-7.92651251e-02]\n",
      " [ 4.70153868e-01]\n",
      " [ 1.56993651e+00]\n",
      " [-8.68034244e-01]\n",
      " [ 9.76662695e-01]\n",
      " [ 1.53377140e+00]\n",
      " [ 4.56188411e-01]\n",
      " [ 9.11189258e-01]\n",
      " [ 1.52374053e+00]\n",
      " [ 9.52811763e-02]\n",
      " [ 1.38426864e+00]\n",
      " [ 1.13828123e+00]\n",
      " [ 7.33265877e-01]\n",
      " [-3.70038569e-01]\n",
      " [ 3.03634077e-01]]\n"
     ]
    }
   ],
   "source": [
    "prediction = model.predict(test_data)\n",
    "print(prediction)"
   ]
  }
 ],
 "metadata": {
  "kernelspec": {
   "display_name": "Python 3",
   "language": "python",
   "name": "python3"
  },
  "language_info": {
   "codemirror_mode": {
    "name": "ipython",
    "version": 3
   },
   "file_extension": ".py",
   "mimetype": "text/x-python",
   "name": "python",
   "nbconvert_exporter": "python",
   "pygments_lexer": "ipython3",
   "version": "3.9.6"
  }
 },
 "nbformat": 4,
 "nbformat_minor": 2
}
